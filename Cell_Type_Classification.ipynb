{
  "nbformat": 4,
  "nbformat_minor": 0,
  "metadata": {
    "colab": {
      "provenance": [],
      "gpuType": "T4"
    },
    "kernelspec": {
      "name": "python3",
      "display_name": "Python 3"
    },
    "language_info": {
      "name": "python"
    },
    "accelerator": "GPU"
  },
  "cells": [
    {
      "cell_type": "markdown",
      "source": [
        "#Library Import"
      ],
      "metadata": {
        "id": "S0xUvAASeb8T"
      }
    },
    {
      "cell_type": "code",
      "execution_count": null,
      "metadata": {
        "id": "bCsIN5FWeJyT"
      },
      "outputs": [],
      "source": [
        "from keras.models import Sequential\n",
        "\n",
        "import tensorflow as tf\n",
        "\n",
        "import tensorflow_datasets as tfds\n",
        "\n",
        "from keras.layers import Dense, Activation, Dropout, Flatten\n",
        "from keras.layers import Convolution2D, MaxPooling2D\n",
        "from keras.optimizers import SGD, RMSprop, Adam\n",
        "# !pip install np_utils\n",
        "from keras.utils import to_categorical\n",
        "from sklearn.tree import DecisionTreeClassifier # Import Decision Tree Classifier\n",
        "from sklearn import metrics\n",
        "from sklearn.utils import shuffle\n",
        "from sklearn.model_selection import train_test_split\n",
        "import matplotlib.image as mpimg\n",
        "import matplotlib.pyplot as plt\n",
        "import numpy as np\n",
        "import os\n",
        "import cv2\n",
        "import random\n",
        "from numpy import *\n",
        "from PIL import Image"
      ]
    },
    {
      "cell_type": "code",
      "source": [
        "from google.colab import drive\n",
        "drive.mount('/content/drive')"
      ],
      "metadata": {
        "colab": {
          "base_uri": "https://localhost:8080/"
        },
        "id": "QToukCN9l1Bg",
        "outputId": "f40b39be-2ca5-4e4b-e3c5-b1b63c3618e5"
      },
      "execution_count": null,
      "outputs": [
        {
          "output_type": "stream",
          "name": "stdout",
          "text": [
            "Drive already mounted at /content/drive; to attempt to forcibly remount, call drive.mount(\"/content/drive\", force_remount=True).\n"
          ]
        }
      ]
    },
    {
      "cell_type": "markdown",
      "source": [
        "# Preparing our dataset for training will involve assigning paths and creating categories(labels), resizing our images.\n",
        "\n",
        "# Resizing images into 200 X 200"
      ],
      "metadata": {
        "id": "JpiOSz_olWqR"
      }
    },
    {
      "cell_type": "code",
      "source": [
        "path_test = \"/content/drive/MyDrive/Colab Notebooks/Cell Type Classification/images/TRAIN\"\n",
        "\n",
        "CATEGORIES = [\"EOSINOPHIL\", \"LYMPHOCYTE\", \"MONOCYTE\", \"NEUTROPHIL\"]\n",
        "# print(img_array.shape)\n",
        "IMG_SIZE =200\n",
        "# new_array = cv2.resize(img_array, (IMG_SIZE, IMG_SIZE))"
      ],
      "metadata": {
        "id": "vXPuL4hrf3Qw"
      },
      "execution_count": null,
      "outputs": []
    },
    {
      "cell_type": "markdown",
      "source": [
        "# Training is an array that will contain image pixel values and the index at which the image in the CATEGORIES list."
      ],
      "metadata": {
        "id": "R6DDyApjm4HL"
      }
    },
    {
      "cell_type": "code",
      "source": [
        "training = []\n",
        "img_array = []\n",
        "def createTrainingData():\n",
        "  for category in CATEGORIES:\n",
        "    path = os.path.join(path_test, category)\n",
        "    class_num = CATEGORIES.index(category)\n",
        "    # print(os.listdir(path))\n",
        "    for img in os.listdir(path):\n",
        "      img_array = cv2.imread(os.path.join(path,img))\n",
        "      new_array = cv2.resize(img_array, (IMG_SIZE, IMG_SIZE))\n",
        "      training.append([new_array, class_num])\n",
        "\n",
        "createTrainingData()\n"
      ],
      "metadata": {
        "id": "LUvk64JtmxZB"
      },
      "execution_count": null,
      "outputs": []
    },
    {
      "cell_type": "code",
      "source": [
        "#  print(training[1])"
      ],
      "metadata": {
        "id": "_PzLte-FuJ5N"
      },
      "execution_count": null,
      "outputs": []
    },
    {
      "cell_type": "markdown",
      "source": [],
      "metadata": {
        "id": "PjMNvtyRtWrg"
      }
    },
    {
      "cell_type": "code",
      "source": [
        "random.shuffle(training)"
      ],
      "metadata": {
        "id": "5vTZtmV3tUX4"
      },
      "execution_count": null,
      "outputs": []
    },
    {
      "cell_type": "markdown",
      "source": [
        "#Assigning Labels and Features"
      ],
      "metadata": {
        "id": "GBDjyCS6tc-S"
      }
    },
    {
      "cell_type": "code",
      "source": [
        "X =[]\n",
        "y =[]\n",
        "for features, label in training:\n",
        "  X.append(features)\n",
        "  y.append(label)\n",
        "X = np.array(X).reshape(-1, IMG_SIZE, IMG_SIZE, 3)\n",
        "y= np.array(y)"
      ],
      "metadata": {
        "id": "3rsc4tKctgT_"
      },
      "execution_count": null,
      "outputs": []
    },
    {
      "cell_type": "markdown",
      "source": [
        "# Normalising X and Converting Labels to Categorical Data"
      ],
      "metadata": {
        "id": "HxSTg4yx2dN3"
      }
    },
    {
      "cell_type": "code",
      "source": [
        "X = X.astype('float32')\n",
        "X /= 255\n",
        "# from keras.utils import np_utils\n",
        "Y = to_categorical(y, 4)\n",
        "print(Y[100])\n",
        "print(shape(Y))"
      ],
      "metadata": {
        "id": "3q3_SSdp2b6Z",
        "colab": {
          "base_uri": "https://localhost:8080/"
        },
        "outputId": "32b14465-2e3f-4831-ad78-0148f4bd59bc"
      },
      "execution_count": null,
      "outputs": [
        {
          "output_type": "stream",
          "name": "stdout",
          "text": [
            "[0. 0. 0. 1.]\n",
            "(8331, 4)\n"
          ]
        }
      ]
    },
    {
      "cell_type": "markdown",
      "source": [
        "# Split X and Y for Use in CNN"
      ],
      "metadata": {
        "id": "wjiv7ZXB2jUu"
      }
    },
    {
      "cell_type": "code",
      "source": [
        "X_train, X_test, y_train, y_test = train_test_split(X, y, test_size = 0.2, random_state = 4)"
      ],
      "metadata": {
        "id": "U6RuopRu2mxQ"
      },
      "execution_count": null,
      "outputs": []
    },
    {
      "cell_type": "markdown",
      "source": [
        "# Define, Compile and Train the CNN Model"
      ],
      "metadata": {
        "id": "nj8umzb72z5d"
      }
    },
    {
      "cell_type": "code",
      "source": [
        "batch_size = 16\n",
        "nb_classes =4\n",
        "nb_epochs = 5\n",
        "img_rows, img_columns = 200, 200\n",
        "img_channel = 3\n",
        "nb_filters = 32\n",
        "nb_pool = 2\n",
        "nb_conv = 3\n",
        "\n",
        "model = tf.keras.Sequential([\n",
        "    tf.keras.layers.Conv2D(32, (3,3), padding='same', activation=tf.nn.relu,\n",
        "                           input_shape=(200, 200, 3)),\n",
        "    tf.keras.layers.MaxPooling2D((2, 2), strides=2),\n",
        "    tf.keras.layers.Conv2D(32, (3,3), padding='same', activation=tf.nn.relu),\n",
        "    tf.keras.layers.MaxPooling2D((2, 2), strides=2),\n",
        "    tf.keras.layers.Dropout(0.5),\n",
        "    tf.keras.layers.Flatten(),\n",
        "    tf.keras.layers.Dense(128, activation=tf.nn.relu),\n",
        "    tf.keras.layers.Dense(4,  activation=tf.nn.softmax)\n",
        "])\n",
        "model.compile(optimizer='adam',loss='sparse_categorical_crossentropy',metrics=['accuracy'])\n",
        "model.fit(X_train, y_train, batch_size = batch_size, epochs = nb_epochs, verbose = 1, validation_data = (X_test, y_test))"
      ],
      "metadata": {
        "id": "4SlO2EIf2yfN"
      },
      "execution_count": null,
      "outputs": []
    },
    {
      "cell_type": "markdown",
      "source": [
        "# Accuracy and Score of Model"
      ],
      "metadata": {
        "id": "Ivt-en2w28JF"
      }
    },
    {
      "cell_type": "code",
      "source": [
        "score = model.evaluate(X_test, y_test, verbose = 0 )\n",
        "print(\"Test Score: \", score[0])\n",
        "print(\"Test accuracy: \", score[1])"
      ],
      "metadata": {
        "id": "T_ku-v4B24Al"
      },
      "execution_count": null,
      "outputs": []
    },
    {
      "cell_type": "markdown",
      "source": [],
      "metadata": {
        "id": "PAtPYlHuumve"
      }
    }
  ]
}